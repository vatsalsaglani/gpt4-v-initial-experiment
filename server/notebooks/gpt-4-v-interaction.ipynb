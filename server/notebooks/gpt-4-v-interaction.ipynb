{
 "cells": [
  {
   "cell_type": "code",
   "execution_count": 1,
   "metadata": {},
   "outputs": [],
   "source": [
    "import httpx\n",
    "import openai\n",
    "import asyncio\n",
    "import nest_asyncio\n",
    "\n",
    "nest_asyncio.apply()"
   ]
  },
  {
   "cell_type": "code",
   "execution_count": 3,
   "metadata": {},
   "outputs": [],
   "source": [
    "client = openai.OpenAI(api_key=\"YOUR-OPENAI-API-KEY\")"
   ]
  },
  {
   "cell_type": "code",
   "execution_count": 4,
   "metadata": {},
   "outputs": [],
   "source": [
    "response = client.chat.completions.create(\n",
    "    model=\"gpt-4-vision-preview\",\n",
    "    messages=[{\n",
    "        \"role\":\n",
    "        \"user\",\n",
    "        \"content\": [\n",
    "            {\n",
    "                \"type\": \"text\",\n",
    "                \"text\": \"What's in this image?\"\n",
    "            },\n",
    "            {\n",
    "                \"type\":\n",
    "                \"image_url\",\n",
    "                \"image_url\":\n",
    "                \"https://upload.wikimedia.org/wikipedia/commons/thumb/d/dd/Gfp-wisconsin-madison-the-nature-boardwalk.jpg/2560px-Gfp-wisconsin-madison-the-nature-boardwalk.jpg\",\n",
    "            },\n",
    "        ],\n",
    "    }],\n",
    "    max_tokens=300,\n",
    ")"
   ]
  },
  {
   "cell_type": "code",
   "execution_count": 7,
   "metadata": {},
   "outputs": [
    {
     "data": {
      "text/plain": [
       "'This is an image of a wooden boardwalk extending through a lush green meadow or wetland area. The boardwalk is designed to allow people to walk through the area without disturbing the natural habitat. Tall green grasses flank both sides of the boardwalk, and a variety of shrubs and trees can be seen in the background. Above, there is a blue sky with some scattered clouds, suggesting a pleasant weather condition. This setting is peaceful and natural, likely a destination for leisurely walks or an opportunity to observe wildlife and nature.'"
      ]
     },
     "execution_count": 7,
     "metadata": {},
     "output_type": "execute_result"
    }
   ],
   "source": [
    "response.choices[0].message.content"
   ]
  },
  {
   "cell_type": "code",
   "execution_count": 8,
   "metadata": {},
   "outputs": [
    {
     "data": {
      "text/plain": [
       "ChatCompletion(id='chatcmpl-8ItVy0wPYrINvQPwMSpvZAcCHbKfQ', choices=[Choice(finish_reason=None, index=0, message=ChatCompletionMessage(content='This is an image of a wooden boardwalk extending through a lush green meadow or wetland area. The boardwalk is designed to allow people to walk through the area without disturbing the natural habitat. Tall green grasses flank both sides of the boardwalk, and a variety of shrubs and trees can be seen in the background. Above, there is a blue sky with some scattered clouds, suggesting a pleasant weather condition. This setting is peaceful and natural, likely a destination for leisurely walks or an opportunity to observe wildlife and nature.', role='assistant', function_call=None, tool_calls=None), finish_details={'type': 'stop', 'stop': '<|fim_suffix|>'})], created=1699513994, model='gpt-4-1106-vision-preview', object='chat.completion', system_fingerprint=None, usage=CompletionUsage(completion_tokens=108, prompt_tokens=1118, total_tokens=1226))"
      ]
     },
     "execution_count": 8,
     "metadata": {},
     "output_type": "execute_result"
    }
   ],
   "source": [
    "response"
   ]
  },
  {
   "cell_type": "code",
   "execution_count": 4,
   "metadata": {},
   "outputs": [],
   "source": [
    "async def chatCompletion(messages, model, api_key, **kwargs):\n",
    "    headers = {\n",
    "        \"Content-Type\": \"application/json\",\n",
    "        \"Authorization\": f\"Bearer {api_key}\"\n",
    "    }\n",
    "    payload = {\"messages\": messages, \"model\": model, **kwargs}\n",
    "    async with httpx.AsyncClient(timeout=120) as request:\n",
    "        response = await request.post(\n",
    "            \"https://api.openai.com/v1/chat/completions\",\n",
    "            headers=headers,\n",
    "            json=payload)\n",
    "        print(response.text)\n",
    "        response.raise_for_status()\n",
    "        return response.json()"
   ]
  },
  {
   "cell_type": "code",
   "execution_count": 5,
   "metadata": {},
   "outputs": [
    {
     "name": "stdout",
     "output_type": "stream",
     "text": [
      "{\"id\": \"chatcmpl-8IyoVvNu38dgCZF00l5iyCBWfyZvu\", \"object\": \"chat.completion\", \"created\": 1699534363, \"model\": \"gpt-4-1106-vision-preview\", \"usage\": {\"prompt_tokens\": 2230, \"completion_tokens\": 143, \"total_tokens\": 2373}, \"choices\": [{\"message\": {\"role\": \"assistant\", \"content\": \"You've provided two images that appear to be identical at first glance. Both images depict a wooden boardwalk leading through a lush green field with tall grasses. The sky is partly cloudy with a mix of blue and white, suggesting a pleasant day. There are trees and shrubs in the distance, and the overall scene is one of natural beauty and tranquility.\\n\\nUpon closer inspection, since the images seem to be the same, any differences between them would likely be very subtle and could be related to slight variations in color, lighting, or compression artifacts. However, without any specific differences pointed out or without a higher resolution to examine fine details, it's challenging to identify any distinct differences between the two images provided.\"}, \"finish_details\": {\"type\": \"stop\", \"stop\": \"<|fim_suffix|>\"}, \"index\": 0}]}\n"
     ]
    },
    {
     "data": {
      "text/plain": [
       "{'id': 'chatcmpl-8IyoVvNu38dgCZF00l5iyCBWfyZvu',\n",
       " 'object': 'chat.completion',\n",
       " 'created': 1699534363,\n",
       " 'model': 'gpt-4-1106-vision-preview',\n",
       " 'usage': {'prompt_tokens': 2230,\n",
       "  'completion_tokens': 143,\n",
       "  'total_tokens': 2373},\n",
       " 'choices': [{'message': {'role': 'assistant',\n",
       "    'content': \"You've provided two images that appear to be identical at first glance. Both images depict a wooden boardwalk leading through a lush green field with tall grasses. The sky is partly cloudy with a mix of blue and white, suggesting a pleasant day. There are trees and shrubs in the distance, and the overall scene is one of natural beauty and tranquility.\\n\\nUpon closer inspection, since the images seem to be the same, any differences between them would likely be very subtle and could be related to slight variations in color, lighting, or compression artifacts. However, without any specific differences pointed out or without a higher resolution to examine fine details, it's challenging to identify any distinct differences between the two images provided.\"},\n",
       "   'finish_details': {'type': 'stop', 'stop': '<|fim_suffix|>'},\n",
       "   'index': 0}]}"
      ]
     },
     "execution_count": 5,
     "metadata": {},
     "output_type": "execute_result"
    }
   ],
   "source": [
    "message = [{\n",
    "    \"role\":\n",
    "    \"user\",\n",
    "    \"content\": [\n",
    "        {\n",
    "            \"type\":\n",
    "            \"text\",\n",
    "            \"text\":\n",
    "            \"What's in these images? Is there any difference between them?\",\n",
    "        },\n",
    "        {\n",
    "            \"type\":\n",
    "            \"image_url\",\n",
    "            \"image_url\":\n",
    "            \"https://upload.wikimedia.org/wikipedia/commons/thumb/d/dd/Gfp-wisconsin-madison-the-nature-boardwalk.jpg/2560px-Gfp-wisconsin-madison-the-nature-boardwalk.jpg\",\n",
    "        },\n",
    "        {\n",
    "            \"type\":\n",
    "            \"image_url\",\n",
    "            \"image_url\":\n",
    "            \"https://upload.wikimedia.org/wikipedia/commons/thumb/d/dd/Gfp-wisconsin-madison-the-nature-boardwalk.jpg/2560px-Gfp-wisconsin-madison-the-nature-boardwalk.jpg\",\n",
    "        },\n",
    "    ],\n",
    "}]\n",
    "krgs = {\"max_tokens\": 512, \"temperature\": 0.2}\n",
    "model = \"gpt-4-vision-preview\"\n",
    "result = asyncio.run(\n",
    "    chatCompletion(messages=message,\n",
    "                   model=model,\n",
    "                   api_key=\"YOUR-OPENAI-API-KEY\",\n",
    "                   **krgs))\n",
    "result"
   ]
  },
  {
   "cell_type": "code",
   "execution_count": 2,
   "metadata": {},
   "outputs": [],
   "source": [
    "import uuid\n",
    "\n",
    "\n",
    "async def text2Speech(text: str, voice: str, api_key: str):\n",
    "    headers = {\"Authorization\": f\"Bearer {api_key}\", \"Content-Type\": \"application/json\"}\n",
    "    payload = {\"model\": \"tts-1\", \"input\": text, \"voice\": voice}\n",
    "    async with httpx.AsyncClient(timeout=600) as request:\n",
    "        response = await request.post(\n",
    "            \"https://api.openai.com/v1/audio/speech\", headers=headers, json=payload\n",
    "        )\n",
    "        print(response.text)\n",
    "        response.raise_for_status()\n",
    "        fn = \"\".join(text.split()) + f\"_{str(uuid.uuid4())}.mp3\"\n",
    "        with open(fn, \"wb\") as fp:\n",
    "            fp.write(response.content)\n",
    "        return fn"
   ]
  },
  {
   "cell_type": "code",
   "execution_count": 6,
   "metadata": {},
   "outputs": [
    {
     "name": "stdout",
     "output_type": "stream",
     "text": [
      "{\"id\": \"chatcmpl-8Iyp0r1H1TEFTVBrJWvjac1HuoVa7\", \"object\": \"chat.completion\", \"created\": 1699534394, \"model\": \"gpt-4-1106-vision-preview\", \"usage\": {\"prompt_tokens\": 792, \"completion_tokens\": 510, \"total_tokens\": 1302}, \"choices\": [{\"message\": {\"role\": \"assistant\", \"content\": \"\\u0a86 \\u0a9b\\u0aac\\u0ac0\\u0aae\\u0abe\\u0a82 \\u0a8f\\u0a95 \\u0a9f\\u0acd\\u0ab0\\u0abe\\u0aab\\u0abf\\u0a95 \\u0ab8\\u0a82\\u0a95\\u0ac7\\u0aa4 \\u0aac\\u0acb\\u0ab0\\u0acd\\u0aa1 \\u0aa6\\u0ab0\\u0acd\\u0ab6\\u0abe\\u0ab5\\u0ac7\\u0ab2 \\u0a9b\\u0ac7, \\u0a9c\\u0ac7 \\u0a9a\\u0ac0\\u0aa8\\u0ac0 \\u0aad\\u0abe\\u0ab7\\u0abe\\u0aae\\u0abe\\u0a82 \\u0ab2\\u0a96\\u0abe\\u0aa3 \\u0ab8\\u0abe\\u0aa5\\u0ac7 \\u0a9b\\u0ac7. \\u0a89\\u0aaa\\u0ab0\\u0aa8\\u0abe \\u0aad\\u0abe\\u0a97\\u0aae\\u0abe\\u0a82 \\u0a8f\\u0a95 \\u0a9f\\u0acd\\u0ab0\\u0a95\\u0aa8\\u0ac1\\u0a82 \\u0a9a\\u0abf\\u0aa4\\u0acd\\u0ab0 \\u0a9b\\u0ac7 \\u0a85\\u0aa8\\u0ac7 \\u0aa4\\u0ac7\\u0aa8\\u0ac0 \\u0aac\\u0abe\\u0a9c\\u0ac1\\u0aae\\u0abe\\u0a82 \\u0a9c\\u0aae\\u0aa3\\u0ac0 \\u0aac\\u0abe\\u0a9c\\u0ac1 \\u0ab5\\u0abe\\u0ab3\\u0ac1\\u0a82 \\u0aa4\\u0ac0\\u0ab0 \\u0a9b\\u0ac7, \\u0a9c\\u0ac7 \\u0a95\\u0aa6\\u0abe\\u0a9a \\u0a9f\\u0acd\\u0ab0\\u0a95 \\u0aaa\\u0abe\\u0ab0\\u0acd\\u0a95\\u0abf\\u0a82\\u0a97 \\u0a95\\u0ac7 \\u0a9f\\u0acd\\u0ab0\\u0a95 \\u0aae\\u0abe\\u0a9f\\u0ac7\\u0aa8\\u0ac0 \\u0ab5\\u0abf\\u0ab6\\u0ac7\\u0ab7 \\u0ab2\\u0ac7\\u0aa8 \\u0aa4\\u0ab0\\u0aab \\u0a87\\u0ab6\\u0abe\\u0ab0\\u0acb \\u0a95\\u0ab0\\u0ac7 \\u0a9b\\u0ac7. \\u0aa8\\u0ac0\\u0a9a\\u0ac7\\u0aa8\\u0abe \\u0aad\\u0abe\\u0a97\\u0aae\\u0abe\\u0a82 \\u0a9a\\u0ac0\\u0aa8\\u0ac0 \\u0a85\\u0a95\\u0acd\\u0ab7\\u0ab0\\u0acb \\u0a9b\\u0ac7, \\u0a9c\\u0ac7\\u0aa8\\u0acb \\u0aae\\u0aa4\\u0ab2\\u0aac \\u0aae\\u0aa8\\u0ac7 \\u0a96\\u0aac\\u0ab0 \\u0aa8\\u0aa5\\u0ac0 \\u0aaa\\u0ab0\\u0a82\\u0aa4\\u0ac1 \\u0aa4\\u0ac7 \\u0a95\\u0aa6\\u0abe\\u0a9a \\u0ab8\\u0acd\\u0aa5\\u0ab3 \\u0a95\\u0ac7 \\u0aa6\\u0abf\\u0ab6\\u0abe\\u0a93\\u0aa8\\u0ac0 \\u0aae\\u0abe\\u0ab9\\u0abf\\u0aa4\\u0ac0 \\u0a86\\u0aaa\\u0aa4\\u0abe \\u0ab9\\u0acb\\u0a88 \\u0ab6\\u0a95\\u0ac7 \\u0a9b\\u0ac7.\"}, \"finish_details\": {\"type\": \"stop\", \"stop\": \"<|fim_suffix|>\"}, \"index\": 0}]}\n"
     ]
    },
    {
     "data": {
      "text/plain": [
       "{'id': 'chatcmpl-8Iyp0r1H1TEFTVBrJWvjac1HuoVa7',\n",
       " 'object': 'chat.completion',\n",
       " 'created': 1699534394,\n",
       " 'model': 'gpt-4-1106-vision-preview',\n",
       " 'usage': {'prompt_tokens': 792,\n",
       "  'completion_tokens': 510,\n",
       "  'total_tokens': 1302},\n",
       " 'choices': [{'message': {'role': 'assistant',\n",
       "    'content': 'આ છબીમાં એક ટ્રાફિક સંકેત બોર્ડ દર્શાવેલ છે, જે ચીની ભાષામાં લખાણ સાથે છે. ઉપરના ભાગમાં એક ટ્રકનું ચિત્ર છે અને તેની બાજુમાં જમણી બાજુ વાળું તીર છે, જે કદાચ ટ્રક પાર્કિંગ કે ટ્રક માટેની વિશેષ લેન તરફ ઇશારો કરે છે. નીચેના ભાગમાં ચીની અક્ષરો છે, જેનો મતલબ મને ખબર નથી પરંતુ તે કદાચ સ્થળ કે દિશાઓની માહિતી આપતા હોઈ શકે છે.'},\n",
       "   'finish_details': {'type': 'stop', 'stop': '<|fim_suffix|>'},\n",
       "   'index': 0}]}"
      ]
     },
     "execution_count": 6,
     "metadata": {},
     "output_type": "execute_result"
    }
   ],
   "source": [
    "message = [\n",
    "    {\n",
    "        \"role\": \"system\",\n",
    "        \"content\": \"Provide the answer in Gujarati language.\"\n",
    "    },\n",
    "    {\n",
    "        \"role\":\n",
    "        \"user\",\n",
    "        \"content\": [\n",
    "            {\n",
    "                \"type\": \"text\",\n",
    "                \"text\": \"Provide an explanation of what the image contains\",\n",
    "            },\n",
    "            {\n",
    "                \"type\":\n",
    "                \"image_url\",\n",
    "                \"image_url\":\n",
    "                \"https://upload.wikimedia.org/wikipedia/commons/thumb/b/bd/China_road_sign_路_77d.svg/1771px-China_road_sign_路_77d.svg.png\",\n",
    "            },\n",
    "        ],\n",
    "    },\n",
    "]\n",
    "krgs = {\"max_tokens\": 512, \"temperature\": 0.2}\n",
    "model = \"gpt-4-vision-preview\"\n",
    "result = asyncio.run(\n",
    "    chatCompletion(messages=message,\n",
    "                   model=model,\n",
    "                   api_key=\"YOUR-OPENAI-API-KEY\",\n",
    "                   **krgs))\n",
    "result"
   ]
  },
  {
   "cell_type": "code",
   "execution_count": 6,
   "metadata": {},
   "outputs": [],
   "source": [
    "result_content = result.get(\"choices\")[0].get(\"message\").get(\"content\")"
   ]
  },
  {
   "cell_type": "code",
   "execution_count": 7,
   "metadata": {},
   "outputs": [
    {
     "data": {
      "text/plain": [
       "'આ છબીમાં એક ટ્રાફિક સંકેત બોર્ડ દર્શાવેલ છે. ઉપરના ભાગમાં એક ટ્રકનું ચિત્ર છે જે વજન માપનારા સ્કેલ પર ઉભું છે, અને જમણી બાજુ એક તીર છે જે દર્શાવે છે કે ટ્રકોએ જમણી બાજુ વળવાનું છે. નીચેના ભાગમાં ચીની ભાષામાં લખાણ છે, જે કદાચ સ્થાનિક નિર્દેશો અથવા સૂચનાઓ હોઈ શકે છે.'"
      ]
     },
     "execution_count": 7,
     "metadata": {},
     "output_type": "execute_result"
    }
   ],
   "source": [
    "result_content"
   ]
  },
  {
   "cell_type": "code",
   "execution_count": 3,
   "metadata": {},
   "outputs": [],
   "source": [
    "audio_result = asyncio.run(\n",
    "    text2Speech(\n",
    "        \"આ છબીમાં એક ટ્રાફિક સંકેત બોર્ડ દર્શાવેલ છે. ઉપરના ભાગમાં એક ટ્રકનું ચિત્ર છે જે વજન માપનારા સ્કેલ પર ઉભું છે, અને જમણી બાજુ એક તીર છે જે દર્શાવે છે કે ટ્રકોએ જમણી બાજુ વળવાનું છે. નીચેના ભાગમાં ચીની ભાષામાં લખાણ છે, જે કદાચ સ્થાનિક નિર્દેશો અથવા સૂચનાઓ હોઈ શકે છે.\",\n",
    "        \"alloy\",\n",
    "        \"YOUR-OPENAI-API-KEY\",\n",
    "    )\n",
    ")\n",
    "audio_result"
   ]
  },
  {
   "cell_type": "code",
   "execution_count": null,
   "metadata": {},
   "outputs": [],
   "source": []
  }
 ],
 "metadata": {
  "kernelspec": {
   "display_name": "Python 3",
   "language": "python",
   "name": "python3"
  },
  "language_info": {
   "codemirror_mode": {
    "name": "ipython",
    "version": 3
   },
   "file_extension": ".py",
   "mimetype": "text/x-python",
   "name": "python",
   "nbconvert_exporter": "python",
   "pygments_lexer": "ipython3",
   "version": "3.11.5"
  }
 },
 "nbformat": 4,
 "nbformat_minor": 2
}
